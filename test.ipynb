{
 "cells": [
  {
   "cell_type": "code",
   "execution_count": 30,
   "metadata": {},
   "outputs": [],
   "source": [
    "# Fonction pour créer un tableau de valeurs\n",
    "def creer_tableau(colonnes, lignes, valeurs_a_attribuer):\n",
    "    tableau = {colonne: {ligne: None for ligne in lignes} for colonne in colonnes}\n",
    "    for colonne, ligne, valeur in valeurs_a_attribuer:\n",
    "        tableau[colonne][ligne] = valeur\n",
    "    return tableau\n",
    "\n",
    "# Fonction pour imprimer le tableau pour vérification visuelle\n",
    "def print_tableau(tableau, nom_colonne, nom_ligne) :\n",
    "    for colonne, valeurs in tableau.items():\n",
    "        print(f\"{nom_colonne} = {colonne}:\")\n",
    "        for ligne, valeur in valeurs.items():\n",
    "            print(f\"  {nom_ligne} = {ligne}: {valeur}\")\n",
    "\n",
    "# Fonction permettant d'afficher un message d'erreur et de stopper le programme\n",
    "# Nbre de param : 2 (msg = message , code = code d'erreur)\n",
    "def ERROR(msg , code = 1):\n",
    "    print(\"\\n\\n\\nERROR\\nPROGRAM STOPPED!!!\\n\")\n",
    "    if msg:\n",
    "        print(msg)\n",
    "    print(f\"\\n\\texit code = {code}\\n\\n\\t\\n\")\n",
    "    sys.exit(code)\n"
   ]
  },
  {
   "cell_type": "markdown",
   "metadata": {},
   "source": [
    "### Création du tableau pour trouver $N_{RB}$ :"
   ]
  },
  {
   "cell_type": "code",
   "execution_count": 24,
   "metadata": {},
   "outputs": [
    {
     "name": "stdout",
     "output_type": "stream",
     "text": [
      "SCS = 15:\n",
      "  Bandwidth = 5: 25\n",
      "  Bandwidth = 10: 52\n",
      "  Bandwidth = 15: 79\n",
      "  Bandwidth = 20: 106\n",
      "  Bandwidth = 25: 133\n",
      "  Bandwidth = 30: 160\n",
      "  Bandwidth = 35: 188\n",
      "  Bandwidth = 40: 216\n",
      "  Bandwidth = 45: 242\n",
      "  Bandwidth = 50: 270\n",
      "  Bandwidth = 60: None\n",
      "  Bandwidth = 70: None\n",
      "  Bandwidth = 80: None\n",
      "  Bandwidth = 90: None\n",
      "  Bandwidth = 100: None\n",
      "SCS = 30:\n",
      "  Bandwidth = 5: 11\n",
      "  Bandwidth = 10: 24\n",
      "  Bandwidth = 15: 38\n",
      "  Bandwidth = 20: 51\n",
      "  Bandwidth = 25: 65\n",
      "  Bandwidth = 30: 78\n",
      "  Bandwidth = 35: 92\n",
      "  Bandwidth = 40: 106\n",
      "  Bandwidth = 45: 119\n",
      "  Bandwidth = 50: 133\n",
      "  Bandwidth = 60: 162\n",
      "  Bandwidth = 70: 189\n",
      "  Bandwidth = 80: 217\n",
      "  Bandwidth = 90: 245\n",
      "  Bandwidth = 100: 273\n",
      "SCS = 60:\n",
      "  Bandwidth = 5: None\n",
      "  Bandwidth = 10: 11\n",
      "  Bandwidth = 15: 18\n",
      "  Bandwidth = 20: 24\n",
      "  Bandwidth = 25: 31\n",
      "  Bandwidth = 30: 38\n",
      "  Bandwidth = 35: 44\n",
      "  Bandwidth = 40: 51\n",
      "  Bandwidth = 45: 58\n",
      "  Bandwidth = 50: 65\n",
      "  Bandwidth = 60: 79\n",
      "  Bandwidth = 70: 93\n",
      "  Bandwidth = 80: 107\n",
      "  Bandwidth = 90: 121\n",
      "  Bandwidth = 100: 135\n"
     ]
    }
   ],
   "source": [
    "# Exemple d'utilisation de la fonction creer_tableau\n",
    "scs_valeurs = [15, 30, 60] #in kHz\n",
    "bandwidth_valeurs = list(range(5, 51, 5)) + list(range(60, 101, 10)) #in MHz\n",
    "\n",
    "valeurs_a_attribuer = [\n",
    "(15, 5, 25), (15, 10, 52), (15, 15, 79), (15, 20, 106), (15, 25, 133), (15, 30, 160), (15, 35, 188), (15, 40, 216), (15, 45, 242), (15, 50, 270), (15, 60, None), (15, 70, None), (15, 80, None), (15, 90, None), (15, 100, None), \n",
    "(30, 5, 11), (30, 10, 24), (30, 15, 38), (30, 20, 51), (30, 25, 65), (30, 30, 78), (30, 35, 92), (30, 40, 106), (30, 45, 119), (30, 50, 133), (30, 60, 162), (30, 70, 189), (30, 80, 217), (30, 90, 245), (30, 100, 273), \n",
    "(60, 5, None), (60, 10, 11), (60, 15, 18), (60, 20, 24), (60, 25, 31), (60, 30,38), (60, 35, 44), (60, 40, 51), (60, 45, 58), (60, 50, 65), (60, 60, 79), (60, 70, 93), (60, 80, 107), (60, 90, 121), (60, 100, 135) \n",
    "]\n",
    "\n",
    "tableau_NRB = creer_tableau(scs_valeurs, bandwidth_valeurs, valeurs_a_attribuer)\n",
    "print_tableau(tableau_NRB,\"SCS\", \"Bandwidth\")"
   ]
  },
  {
   "cell_type": "markdown",
   "metadata": {},
   "source": [
    "### Création du tableau pour trouver la longueur d'un slot $dt$ :"
   ]
  },
  {
   "cell_type": "code",
   "execution_count": 23,
   "metadata": {},
   "outputs": [
    {
     "name": "stdout",
     "output_type": "stream",
     "text": [
      "270\n"
     ]
    }
   ],
   "source": [
    "print(tableau_NRB[15][50])"
   ]
  },
  {
   "cell_type": "code",
   "execution_count": 32,
   "metadata": {},
   "outputs": [
    {
     "name": "stdout",
     "output_type": "stream",
     "text": [
      "1\n"
     ]
    }
   ],
   "source": [
    "def get_slot_duration(scs):\n",
    "    # scs = antennas[0].scs\n",
    "    pas_temps = {15: 1, 30: 0.5, 60: 0.25, 120: 0.125}.get(scs, None)\n",
    "    if pas_temps == None :\n",
    "        ERROR(\"Espacement entre sous-porteuse incorrect dans le fichier de devices database, veuillez mettre l'une de ces valeurs pour les antennes : 15, 30, 60, 120\")\n",
    "    return pas_temps\n",
    "\n",
    "print(get_slot_duration(15))"
   ]
  },
  {
   "cell_type": "code",
   "execution_count": 5,
   "metadata": {},
   "outputs": [
    {
     "name": "stdout",
     "output_type": "stream",
     "text": [
      "    CQI_index modulation  code_rate_x_1024  efficiency\n",
      "0           0       None               NaN         NaN\n",
      "1           1       QPSK              78.0      0.1523\n",
      "2           2       QPSK             120.0      0.2344\n",
      "3           3       QPSK             193.0      0.3770\n",
      "4           4       QPSK             308.0      0.6016\n",
      "5           5       QPSK             449.0      0.8770\n",
      "6           6       QPSK             602.0      1.1758\n",
      "7           7      16QAM             378.0      1.4766\n",
      "8           8      16QAM             490.0      1.9141\n",
      "9           9      16QAM             616.0      2.4063\n",
      "10         10      64QAM             466.0      2.7305\n",
      "11         11      64QAM             567.0      3.3223\n",
      "12         12      64QAM             666.0      3.9023\n",
      "13         13      64QAM             772.0      4.5234\n",
      "14         14      64QAM             873.0      5.1152\n",
      "15         15      64QAM             948.0      5.5547\n"
     ]
    }
   ],
   "source": [
    "import pandas as pd\n",
    "# structure de CQI qui represente le tableau 5.2.2.1-2 4-bit\n",
    "cqi_table_5_2_2_1_2 = pd.DataFrame({\n",
    "    'CQI_index': range(16),\n",
    "    'modulation': [None] + ['QPSK']*6 + ['16QAM']*3 + ['64QAM']*6,\n",
    "    'code_rate_x_1024': [None, 78, 120, 193, 308, 449, 602, 378, 490, 616, 466, 567, 666, 772, 873, 948],\n",
    "    'efficiency': [None, 0.1523, 0.2344, 0.3770, 0.6016, 0.8770, 1.1758, 1.4766, 1.9141, 2.4063, \n",
    "                   2.7305, 3.3223, 3.9023, 4.5234, 5.1152, 5.5547]\n",
    "})\n",
    "print(cqi_table_5_2_2_1_2)\n"
   ]
  }
 ],
 "metadata": {
  "kernelspec": {
   "display_name": "Python 3",
   "language": "python",
   "name": "python3"
  },
  "language_info": {
   "codemirror_mode": {
    "name": "ipython",
    "version": 3
   },
   "file_extension": ".py",
   "mimetype": "text/x-python",
   "name": "python",
   "nbconvert_exporter": "python",
   "pygments_lexer": "ipython3",
   "version": "3.11.7"
  }
 },
 "nbformat": 4,
 "nbformat_minor": 2
}
