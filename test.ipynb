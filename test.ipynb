{
 "cells": [
  {
   "cell_type": "code",
   "execution_count": 7,
   "metadata": {},
   "outputs": [
    {
     "name": "stdout",
     "output_type": "stream",
     "text": [
      "105\n"
     ]
    }
   ],
   "source": [
    "start_TX = [0.03443556032215469, 0.07058091582929515, 0.10718459665175428, 0.14644788985017984, 0.18478974915294766, 0.22176473116998363, 0.2541635916871965, 0.2917393035540318, 0.3295767843935554, 0.36088503880495054, 0.40565312754287853, 0.441667683529431, 0.4776599080075536, 0.5115294766029756, 0.5446281848434435, 0.5747298183175406, 0.6088607089590308, 0.6445577838501827, 0.6767948018225168, 0.7085280467509685, 0.74676821876057, 0.7778506893551703, 0.8139828102066355, 0.8531775793024063, 0.8853804786916416, 0.916118237264089, 0.9500737160829493, 0.9814837055634459]\n",
    "TX_bits = [102, 105, 101, 104, 99, 105, 100, 101, 98, 100, 101, 96, 97, 101, 101, 96, 98, 97, 98, 99, 104, 98, 97, 102, 96, 97, 103, 95, 98]\n",
    "\n",
    "def get_tx_bits(input_value):\n",
    "    for i in range(len(start_TX)):\n",
    "        if start_TX[i] == input_value:\n",
    "            return TX_bits[i]\n",
    "\n",
    "# Appeler la fonction avec une entrée de 0.14644788985017984\n",
    "print(get_tx_bits(0.07058091582929515)) # Renvoie 105"
   ]
  },
  {
   "cell_type": "code",
   "execution_count": 30,
   "metadata": {},
   "outputs": [],
   "source": [
    "# Fonction pour créer un tableau de valeurs\n",
    "def creer_tableau(colonnes, lignes, valeurs_a_attribuer):\n",
    "    tableau = {colonne: {ligne: None for ligne in lignes} for colonne in colonnes}\n",
    "    for colonne, ligne, valeur in valeurs_a_attribuer:\n",
    "        tableau[colonne][ligne] = valeur\n",
    "    return tableau\n",
    "\n",
    "# Fonction pour imprimer le tableau pour vérification visuelle\n",
    "def print_tableau(tableau, nom_colonne, nom_ligne) :\n",
    "    for colonne, valeurs in tableau.items():\n",
    "        print(f\"{nom_colonne} = {colonne}:\")\n",
    "        for ligne, valeur in valeurs.items():\n",
    "            print(f\"  {nom_ligne} = {ligne}: {valeur}\")\n",
    "\n",
    "# Fonction permettant d'afficher un message d'erreur et de stopper le programme\n",
    "# Nbre de param : 2 (msg = message , code = code d'erreur)\n",
    "def ERROR(msg , code = 1):\n",
    "    print(\"\\n\\n\\nERROR\\nPROGRAM STOPPED!!!\\n\")\n",
    "    if msg:\n",
    "        print(msg)\n",
    "    print(f\"\\n\\texit code = {code}\\n\\n\\t\\n\")\n",
    "    sys.exit(code)\n"
   ]
  },
  {
   "cell_type": "markdown",
   "metadata": {},
   "source": [
    "### Création du tableau pour trouver $N_{RB}$ :"
   ]
  },
  {
   "cell_type": "code",
   "execution_count": 24,
   "metadata": {},
   "outputs": [
    {
     "name": "stdout",
     "output_type": "stream",
     "text": [
      "SCS = 15:\n",
      "  Bandwidth = 5: 25\n",
      "  Bandwidth = 10: 52\n",
      "  Bandwidth = 15: 79\n",
      "  Bandwidth = 20: 106\n",
      "  Bandwidth = 25: 133\n",
      "  Bandwidth = 30: 160\n",
      "  Bandwidth = 35: 188\n",
      "  Bandwidth = 40: 216\n",
      "  Bandwidth = 45: 242\n",
      "  Bandwidth = 50: 270\n",
      "  Bandwidth = 60: None\n",
      "  Bandwidth = 70: None\n",
      "  Bandwidth = 80: None\n",
      "  Bandwidth = 90: None\n",
      "  Bandwidth = 100: None\n",
      "SCS = 30:\n",
      "  Bandwidth = 5: 11\n",
      "  Bandwidth = 10: 24\n",
      "  Bandwidth = 15: 38\n",
      "  Bandwidth = 20: 51\n",
      "  Bandwidth = 25: 65\n",
      "  Bandwidth = 30: 78\n",
      "  Bandwidth = 35: 92\n",
      "  Bandwidth = 40: 106\n",
      "  Bandwidth = 45: 119\n",
      "  Bandwidth = 50: 133\n",
      "  Bandwidth = 60: 162\n",
      "  Bandwidth = 70: 189\n",
      "  Bandwidth = 80: 217\n",
      "  Bandwidth = 90: 245\n",
      "  Bandwidth = 100: 273\n",
      "SCS = 60:\n",
      "  Bandwidth = 5: None\n",
      "  Bandwidth = 10: 11\n",
      "  Bandwidth = 15: 18\n",
      "  Bandwidth = 20: 24\n",
      "  Bandwidth = 25: 31\n",
      "  Bandwidth = 30: 38\n",
      "  Bandwidth = 35: 44\n",
      "  Bandwidth = 40: 51\n",
      "  Bandwidth = 45: 58\n",
      "  Bandwidth = 50: 65\n",
      "  Bandwidth = 60: 79\n",
      "  Bandwidth = 70: 93\n",
      "  Bandwidth = 80: 107\n",
      "  Bandwidth = 90: 121\n",
      "  Bandwidth = 100: 135\n"
     ]
    }
   ],
   "source": [
    "# Exemple d'utilisation de la fonction creer_tableau\n",
    "scs_valeurs = [15, 30, 60] #in kHz\n",
    "bandwidth_valeurs = list(range(5, 51, 5)) + list(range(60, 101, 10)) #in MHz\n",
    "\n",
    "valeurs_a_attribuer = [\n",
    "(15, 5, 25), (15, 10, 52), (15, 15, 79), (15, 20, 106), (15, 25, 133), (15, 30, 160), (15, 35, 188), (15, 40, 216), (15, 45, 242), (15, 50, 270), (15, 60, None), (15, 70, None), (15, 80, None), (15, 90, None), (15, 100, None), \n",
    "(30, 5, 11), (30, 10, 24), (30, 15, 38), (30, 20, 51), (30, 25, 65), (30, 30, 78), (30, 35, 92), (30, 40, 106), (30, 45, 119), (30, 50, 133), (30, 60, 162), (30, 70, 189), (30, 80, 217), (30, 90, 245), (30, 100, 273), \n",
    "(60, 5, None), (60, 10, 11), (60, 15, 18), (60, 20, 24), (60, 25, 31), (60, 30,38), (60, 35, 44), (60, 40, 51), (60, 45, 58), (60, 50, 65), (60, 60, 79), (60, 70, 93), (60, 80, 107), (60, 90, 121), (60, 100, 135) \n",
    "]\n",
    "\n",
    "tableau_NRB = creer_tableau(scs_valeurs, bandwidth_valeurs, valeurs_a_attribuer)\n",
    "print_tableau(tableau_NRB,\"SCS\", \"Bandwidth\")"
   ]
  },
  {
   "cell_type": "markdown",
   "metadata": {},
   "source": [
    "### Création du tableau pour trouver la longueur d'un slot $dt$ :"
   ]
  },
  {
   "cell_type": "code",
   "execution_count": 23,
   "metadata": {},
   "outputs": [
    {
     "name": "stdout",
     "output_type": "stream",
     "text": [
      "270\n"
     ]
    }
   ],
   "source": [
    "print(tableau_NRB[15][50])"
   ]
  },
  {
   "cell_type": "code",
   "execution_count": 32,
   "metadata": {},
   "outputs": [
    {
     "name": "stdout",
     "output_type": "stream",
     "text": [
      "1\n"
     ]
    }
   ],
   "source": [
    "def get_slot_duration(scs):\n",
    "    # scs = antennas[0].scs\n",
    "    pas_temps = {15: 1, 30: 0.5, 60: 0.25, 120: 0.125}.get(scs, None)\n",
    "    if pas_temps == None :\n",
    "        ERROR(\"Espacement entre sous-porteuse incorrect dans le fichier de devices database, veuillez mettre l'une de ces valeurs pour les antennes : 15, 30, 60, 120\")\n",
    "    return pas_temps\n",
    "\n",
    "print(get_slot_duration(15))"
   ]
  },
  {
   "cell_type": "code",
   "execution_count": 5,
   "metadata": {},
   "outputs": [
    {
     "name": "stdout",
     "output_type": "stream",
     "text": [
      "    CQI_index modulation  code_rate_x_1024  efficiency\n",
      "0           0       None               NaN         NaN\n",
      "1           1       QPSK              78.0      0.1523\n",
      "2           2       QPSK             120.0      0.2344\n",
      "3           3       QPSK             193.0      0.3770\n",
      "4           4       QPSK             308.0      0.6016\n",
      "5           5       QPSK             449.0      0.8770\n",
      "6           6       QPSK             602.0      1.1758\n",
      "7           7      16QAM             378.0      1.4766\n",
      "8           8      16QAM             490.0      1.9141\n",
      "9           9      16QAM             616.0      2.4063\n",
      "10         10      64QAM             466.0      2.7305\n",
      "11         11      64QAM             567.0      3.3223\n",
      "12         12      64QAM             666.0      3.9023\n",
      "13         13      64QAM             772.0      4.5234\n",
      "14         14      64QAM             873.0      5.1152\n",
      "15         15      64QAM             948.0      5.5547\n"
     ]
    }
   ],
   "source": [
    "import pandas as pd\n",
    "# structure de CQI qui represente le tableau 5.2.2.1-2 4-bit\n",
    "cqi_table_5_2_2_1_2 = pd.DataFrame({\n",
    "    'CQI_index': range(16),\n",
    "    'modulation': [None] + ['QPSK']*6 + ['16QAM']*3 + ['64QAM']*6,\n",
    "    'code_rate_x_1024': [None, 78, 120, 193, 308, 449, 602, 378, 490, 616, 466, 567, 666, 772, 873, 948],\n",
    "    'efficiency': [None, 0.1523, 0.2344, 0.3770, 0.6016, 0.8770, 1.1758, 1.4766, 1.9141, 2.4063, \n",
    "                   2.7305, 3.3223, 3.9023, 4.5234, 5.1152, 5.5547]\n",
    "})\n",
    "print(cqi_table_5_2_2_1_2)\n"
   ]
  },
  {
   "cell_type": "code",
   "execution_count": 3,
   "metadata": {},
   "outputs": [],
   "source": [
    "# Cette classe est utilise pour repertorier les caracteristiques d'une antenne \n",
    "class Antenna:\n",
    "\n",
    "     def __init__(self, id):\n",
    "        self.id = id          #id de l'antenne (int)\n",
    "        self.frequency = None # Antenna frequency in GHz\n",
    "        self.height = None    # Antenna height\n",
    "        self.group = None     # group défini dans la base de données (str)\n",
    "        self.coords = None    # tuple contenant les coordonnées (x,y) \n",
    "        self.assoc_ues = []   # liste avec les id des UEs associés à l'antenne\n",
    "        self.scenario = None  # pathloss scénario tel que lu du fichier de cas (str)\n",
    "        self.gen = None       # type de géneration de coordonnées: 'g', 'a', etc. (str)\n",
    "        # Attributs rajoutes par notre equipe\n",
    "        self.type = None      # Type de l'antenne\n",
    "        self.name = None      # Nom de l'Antenne\n",
    "        self.gain = None      # Gain de l'antenne\n",
    "        self.nbits = []       # Liste des Nombres de bits recus a chaque slot de temps dt\n",
    "        self.live_ues = []    # Regroupement des ID des ues qui auront transmis a chaque dt\n",
    "        self.nombre_resource_blocks_max = None      # Nombre de resource blocks maximal theorique (calculer avec SCS et BW)\n",
    "        self.nombre_resource_blocks_disponibles = [] # !! Liste du Nombre de resource blocks disponibles a chaque slot de temps dt\n",
    "        self.FR_type = None   # Spécifie si l'UE aura une communication FR1 ou FR2 avec son antenne associee\n",
    "        self.bandwidth = None # Spécifie la largeur de bande de l'antenne\n",
    "        self.sub_carrier_spacing = None       # Espacement entre sous-porteuse que l'antenne supporte\n",
    "\n",
    "\n",
    "# Cette classe est utilise pour repertorier les caracteristiques d'une UE \n",
    "class UE:\n",
    "\n",
    "     def __init__(self, id, app_name):\n",
    "        self.id= id           # id de l'UE (int)\n",
    "        self.height = None    # UE height\n",
    "        self.group = None     # group défini dans la base de données (str)\n",
    "        self.coords=None      # tuple contenant les coordonnées (x,y) \n",
    "        self.app=app_name     # nom de l'application qui tourne dans le UE (str)\n",
    "        self.assoc_ant=None   # id de l'antenne associée à l'UE (int)\n",
    "        self.los = True       # LoS ou non (bool)\n",
    "        self.gen = None       # type de géneration de coordonnées: 'g', 'a', etc. (str)\n",
    "        # Attributs rajoutes par notre equipe\n",
    "        self.type = None      # Type de l'UE\n",
    "        self.name = None      # Nom de l'UE\n",
    "        self.nbits = []       # Nombre de bits envoyes a chaque slot de temps dt\n",
    "        self.start_TX = []    # !! Liste des temps de debuts de transmission de paquets\n",
    "        self.end_TX = []      # !! Liste des temps de fins de transmission de paquets\n",
    "        self.cqi = None       # CQI de l'UE avec son antenne\n",
    "        self.Fncy = None # Efficacité de la transmission avec l'antenne (obtenue a partir du CQI)\n",
    "        self.TX_bits = []   # !! Liste des longueurs de paquet envoyés à chaque transmission de l'application de l'UE\n",
    "        self.TX_law = None   # Loi de probabilite suivi par la longueur de paquets de l'application de l'UE\n",
    "        self.TX_percent = None   # Precision de la longueur du paquet de l'application de l'UE (seulement dans le cas d'une loi uniforme)\n",
    "        self.delay_xpacket = []   # !! Liste des temps d'envoi inter-paquet de l'application de l'UE (Liste specifiant le temps écoulé entre le début de l'envoi de deux paquets, c'est un cutoff time)\n",
    "        self.delay_law = None   # Loi de probabilite suivie par le temps d'arrivee inter-paquet de l'application de l'UE\n",
    "        self.delay_percent = None   # Precision du temps d'arrivee inter-paquet de l'application de l'UE (seulement dans le cas d'une loi uniforme)\n",
    "        self.buffer = []        # Liste contenant la quantité de bits non envoyés par manque de Resource Block disponibles du coté de l'antenne associée a chaque slot de temps dt \n",
    "        self.resource_blocks_alloues = [] # Quantite de resources blocks alloues a chaque slot de temps dt\n"
   ]
  },
  {
   "cell_type": "code",
   "execution_count": 28,
   "metadata": {},
   "outputs": [],
   "source": [
    "antennas = []\n",
    "ues = []\n",
    "antenna = Antenna(0)\n",
    "antenna.group = \"Antenna1\"\n",
    "antenna.coords = [83.0, 551.0]\n",
    "ue1 = UE(0,\"app1\")\n",
    "ue1.group = \"UE1-App1\"\n",
    "ue1.start_TX = [ 0.02412, 0.37425, 0.531779, 0.604295, 0.832996]\n",
    "ue1.end_TX = [ 0.02642, 0.39425, 0.551779, 0.644295, 0.852996]\n",
    "ue1.coords = [2500, 1142.8571]\n",
    "ue2 = UE(0,\"app1\")\n",
    "ue2.group = \"UE1-App1\"\n",
    "ue2.start_TX = [ 0.1349, 0.50440, 0.7929199, 0.83611]\n",
    "ue2.end_TX = [ 0.1369, 0.56440, 0.8129199, 0.83911]\n",
    "ue2.coords = [2500, 1142.8571]\n",
    "ue3 = UE(0,\"app1\")\n",
    "ue3.group = \"UE1-App1\"\n",
    "ue3.start_TX = [ 0.1103, 0.6477, 0.6939, 0.7892, 0.8017]\n",
    "ue3.end_TX = [ 0.1153, 0.6497, 0.6969, 0.7992, 0.8117]\n",
    "ue3.coords = [2500, 1142.8571]\n",
    "antenna.live_ues = [[], [25], [8, 25], [1, 8, 15], [1, 8, 15], [15, 23], [23], [23], [1, 15], [1, 8, 15]]\n",
    "antenna.nbits = [0, 529, 1558, 3263, 3109, 1995, 1025, 1284, 225, 2441]\n",
    "antennas.append(antenna)\n",
    "ues.append(ue1)\n",
    "ues.append(ue2)\n",
    "ues.append(ue3)\n",
    "temps_courant = 0.025\n",
    "pas_temps = 0.001\n",
    "\n"
   ]
  },
  {
   "cell_type": "code",
   "execution_count": 29,
   "metadata": {},
   "outputs": [
    {
     "ename": "IndexError",
     "evalue": "list index out of range",
     "output_type": "error",
     "traceback": [
      "\u001b[0;31m---------------------------------------------------------------------------\u001b[0m",
      "\u001b[0;31mIndexError\u001b[0m                                Traceback (most recent call last)",
      "\u001b[1;32m/home/bouh/Documents/Hiver2024/ELE8702/ELE8702-H24-Projet/test.ipynb Cell 10\u001b[0m line \u001b[0;36m1\n\u001b[1;32m     <a href='vscode-notebook-cell:/home/bouh/Documents/Hiver2024/ELE8702/ELE8702-H24-Projet/test.ipynb#X12sZmlsZQ%3D%3D?line=9'>10</a>\u001b[0m \u001b[39m# Utilisation de la fonction\u001b[39;00m\n\u001b[1;32m     <a href='vscode-notebook-cell:/home/bouh/Documents/Hiver2024/ELE8702/ELE8702-H24-Projet/test.ipynb#X12sZmlsZQ%3D%3D?line=10'>11</a>\u001b[0m ues_sorted \u001b[39m=\u001b[39m get_sorted_ues_for_time_slot(ues, temps_courant, pas_temps)\n\u001b[0;32m---> <a href='vscode-notebook-cell:/home/bouh/Documents/Hiver2024/ELE8702/ELE8702-H24-Projet/test.ipynb#X12sZmlsZQ%3D%3D?line=12'>13</a>\u001b[0m \u001b[39mprint\u001b[39m(ues_sorted[\u001b[39m0\u001b[39;49m]\u001b[39m.\u001b[39mstart_TX)\n\u001b[1;32m     <a href='vscode-notebook-cell:/home/bouh/Documents/Hiver2024/ELE8702/ELE8702-H24-Projet/test.ipynb#X12sZmlsZQ%3D%3D?line=13'>14</a>\u001b[0m \u001b[39m# print(ues_sorted[1].start_TX)\u001b[39;00m\n\u001b[1;32m     <a href='vscode-notebook-cell:/home/bouh/Documents/Hiver2024/ELE8702/ELE8702-H24-Projet/test.ipynb#X12sZmlsZQ%3D%3D?line=14'>15</a>\u001b[0m \u001b[39m# print(ues_sorted[2].start_TX)\u001b[39;00m\n",
      "\u001b[0;31mIndexError\u001b[0m: list index out of range"
     ]
    }
   ],
   "source": [
    "def get_sorted_ues_for_time_slot(ues, temps_courant, pas_temps):\n",
    "    sorted_ues = sorted(ues, key=lambda ue: next((tx_time for tx_time in ue.start_TX if tx_time > temps_courant), float('inf')))\n",
    "    time_slot_end = temps_courant + pas_temps\n",
    "    ues_sorted_for_time_slot = []\n",
    "    for ue in sorted_ues:\n",
    "        if any(tx_time < time_slot_end for tx_time in ue.end_TX):\n",
    "            ues_sorted_for_time_slot.append(ue)\n",
    "    return ues_sorted_for_time_slot\n",
    "\n",
    "# Utilisation de la fonction\n",
    "ues_sorted = get_sorted_ues_for_time_slot(ues, temps_courant, pas_temps)\n",
    "\n",
    "print(ues_sorted[0].start_TX)\n",
    "# print(ues_sorted[1].start_TX)\n",
    "# print(ues_sorted[2].start_TX)"
   ]
  }
 ],
 "metadata": {
  "kernelspec": {
   "display_name": "Python 3",
   "language": "python",
   "name": "python3"
  },
  "language_info": {
   "codemirror_mode": {
    "name": "ipython",
    "version": 3
   },
   "file_extension": ".py",
   "mimetype": "text/x-python",
   "name": "python",
   "nbconvert_exporter": "python",
   "pygments_lexer": "ipython3",
   "version": "3.11.7"
  }
 },
 "nbformat": 4,
 "nbformat_minor": 2
}
